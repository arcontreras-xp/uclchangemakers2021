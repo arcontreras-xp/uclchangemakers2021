{
  "nbformat": 4,
  "nbformat_minor": 0,
  "metadata": {
    "colab": {
      "name": "SimpleMLModel_CM2021_v1_0.ipynb",
      "provenance": [],
      "collapsed_sections": []
    },
    "kernelspec": {
      "name": "python3",
      "display_name": "Python 3"
    },
    "language_info": {
      "name": "python"
    }
  },
  "cells": [
    {
      "cell_type": "markdown",
      "metadata": {
        "id": "edga3Ckd0l3e"
      },
      "source": [
        "Author: Abraham Contreras\n",
        "\n",
        "This notebook is a walkthrough of a very simple machine learning algorithm. The data used is randomly generated, consisting of two variables that have a linear relationship with added random noise. The neural network model used here is a simple two-layered fully connected directed graph. The optimisation algorithm used is stochastic gradient descent (SGD), and the loss function defined is mean squared error (MSE).\n",
        "The notebook is split into 6 sections:\n",
        "\n",
        "1. **Import** - where all necessary packages are imported as well as any other setup requirements\n",
        "2. **DATA** - where data is located and imported or generated. Data cleaning may occur in this section and is recommended where possible as this is good practice.\n",
        "3. **MODEL** - where the machine learning model is defined along with the optimisation algorithm, loss function, initial network parameters, and other variables that may need initialising.\n",
        "4. **TRAIN** - where the data is passed through the neural network, otherwise known as 'training the model'. This is often a looped algorithm that can assess the performance of the model and make adjustments accordingly.\n",
        "5. **TEST** - where (preferably unused) data is inputted into the resultant 'trained model' and its performance is assessed for a final time."
      ]
    },
    {
      "cell_type": "markdown",
      "metadata": {
        "id": "xlZ8_gTV6iwR"
      },
      "source": [
        "# Import necessary packages"
      ]
    },
    {
      "cell_type": "code",
      "metadata": {
        "id": "iGlpWfa7Qe25"
      },
      "source": [
        "# PyTorch packages\n",
        "import torch\n",
        "import torch.nn as nn\n",
        "\n",
        "from tqdm import tqdm # loop progress bar\n",
        "import gc # garbage collector\n",
        "\n",
        "# standard packages for data manipulation and visualisation\n",
        "import numpy as np\n",
        "import pandas as pd\n",
        "import matplotlib.pyplot as plt\n",
        "plt.style.use('ggplot')"
      ],
      "execution_count": 1,
      "outputs": []
    },
    {
      "cell_type": "markdown",
      "metadata": {
        "id": "9EV3AjP57F_u"
      },
      "source": [
        "# DATA: load or generate data"
      ]
    },
    {
      "cell_type": "code",
      "metadata": {
        "id": "-9nzrnJ7wgp1"
      },
      "source": [
        "# generate two lists of numbers\n",
        "x = np.random.randn(1000)\n",
        "epsilon = np.random.randn(1000)\n",
        "t = 3 * x + epsilon # linear relationship with noise\n",
        "\n",
        "# convert lists to tensor\n",
        "X = torch.FloatTensor(list(zip(x, t)))\n",
        "\n",
        "# split data into training/testing sets\n",
        "X1, X2 = torch.utils.data.random_split(X, [800, 200])\n",
        "\n",
        "X_train, X_test = X[X1.indices], X[X2.indices]"
      ],
      "execution_count": 2,
      "outputs": []
    },
    {
      "cell_type": "code",
      "metadata": {
        "colab": {
          "base_uri": "https://localhost:8080/",
          "height": 282
        },
        "id": "lzEIW9k6fdMd",
        "outputId": "e16272d7-7ea1-45f6-8227-3cb7d6791e91"
      },
      "source": [
        "# examine datasets\n",
        "plt.scatter(*zip(*X_train), alpha=0.2, s=20, color='grey', label='train')\n",
        "plt.scatter(*zip(*X_test), alpha=0.2, s=20, color='blue', label='test')\n",
        "plt.legend()"
      ],
      "execution_count": 3,
      "outputs": [
        {
          "output_type": "execute_result",
          "data": {
            "text/plain": [
              "<matplotlib.legend.Legend at 0x7fb4aad04190>"
            ]
          },
          "metadata": {},
          "execution_count": 3
        },
        {
          "output_type": "display_data",
          "data": {
            "image/png": "[encoded data removed]",
            "text/plain": [
              "<Figure size 432x288 with 1 Axes>"
            ]
          },
          "metadata": {
            "needs_background": "light"
          }
        }
      ]
    },
    {
      "cell_type": "markdown",
      "metadata": {
        "id": "mI3JQ-xV7OPJ"
      },
      "source": [
        "# MODEL: define the deep learning neural network "
      ]
    },
    {
      "cell_type": "code",
      "metadata": {
        "id": "L4Tux4ApBlue"
      },
      "source": [
        "# define deep learning model\n",
        "class model(nn.Module):\n",
        "  def __init__(self, input_layer, hidden_layer1, output_layer):\n",
        "    super(model, self).__init__()\n",
        "    self.layers = nn.Sequential( # set layers and links\n",
        "      nn.Linear(input_layer, hidden_layer1),\n",
        "      nn.Tanh(),\n",
        "      nn.Linear(hidden_layer1, output_layer))\n",
        "  \n",
        "  def forward(self, x): #define forward propagation step\n",
        "    output = self.layers(x)\n",
        "    return output\n",
        "\n",
        "# create variable for deep learning model\n",
        "# set network parameters\n",
        "neuralnetwork = model(input_layer=1, hidden_layer1=3, output_layer=1)\n",
        "\n",
        "# define optimization algorithm of model and loss formula\n",
        "optimizer = torch.optim.SGD(neuralnetwork.parameters(), lr=0.001)\n",
        "loss = nn.MSELoss()"
      ],
      "execution_count": 4,
      "outputs": []
    },
    {
      "cell_type": "code",
      "metadata": {
        "id": "BXcq5KROEGah",
        "colab": {
          "base_uri": "https://localhost:8080/"
        },
        "outputId": "e15825fc-7bd3-4a11-db70-aa7e22fba599"
      },
      "source": [
        "# (optional) clears some memory space\n",
        "gc.collect()"
      ],
      "execution_count": 5,
      "outputs": [
        {
          "output_type": "execute_result",
          "data": {
            "text/plain": [
              "136"
            ]
          },
          "metadata": {},
          "execution_count": 5
        }
      ]
    },
    {
      "cell_type": "markdown",
      "metadata": {
        "id": "-2qHpMScEPQL"
      },
      "source": [
        "# TRAIN: model learning step"
      ]
    },
    {
      "cell_type": "code",
      "metadata": {
        "id": "uBsUdeeJENlv",
        "colab": {
          "base_uri": "https://localhost:8080/"
        },
        "outputId": "e97ba801-4158-46ff-84d2-ce6f04a47c03"
      },
      "source": [
        "total_epoch = 100 # number of training steps\n",
        "batch_size = 64 # minibatch sizes\n",
        "loss_list = [] \n",
        "\n",
        "for epoch in tqdm(range(total_epoch)):\n",
        "    permu = torch.randperm(X_train.shape[0]) # randomly rearrange training data\n",
        "    for i in range(0, X_train.shape[0], batch_size): # take batches from shuffled data\n",
        "        indices = permu[i:i+batch_size]\n",
        "        batch_x, batch_y = X_train[indices,0], X_train[indices,1]\n",
        "        t = neuralnetwork.forward(batch_x.unsqueeze(1)) # forward propagation\n",
        "        optimizer.zero_grad()\n",
        "        l = loss(t, batch_y.unsqueeze(1)) # calculate loss \n",
        "        l.backward() # backpropagation step\n",
        "        optimizer.step()\n",
        "\n",
        "    if epoch % 1 == 0: # collect loss\n",
        "        loss_list.append(l.detach())"
      ],
      "execution_count": 6,
      "outputs": [
        {
          "output_type": "stream",
          "name": "stderr",
          "text": [
            "100%|██████████| 100/100 [00:00<00:00, 237.73it/s]\n"
          ]
        }
      ]
    },
    {
      "cell_type": "markdown",
      "metadata": {
        "id": "HnxM2vd6oBn3"
      },
      "source": [
        "# PLOT: generate predictions from trained model and plot performance"
      ]
    },
    {
      "cell_type": "code",
      "metadata": {
        "colab": {
          "base_uri": "https://localhost:8080/",
          "height": 282
        },
        "id": "k13gxS0WpkFc",
        "outputId": "04042b9a-ac33-40fd-d0f3-4cd5c62321ad"
      },
      "source": [
        "# Epochs vs Loss\n",
        "plt.plot(range(total_epoch), np.array(loss_list), label='loss', linewidth=0.5)\n",
        "plt.legend()"
      ],
      "execution_count": 7,
      "outputs": [
        {
          "output_type": "execute_result",
          "data": {
            "text/plain": [
              "<matplotlib.legend.Legend at 0x7fb447879d10>"
            ]
          },
          "metadata": {},
          "execution_count": 7
        },
        {
          "output_type": "display_data",
          "data": {
            "image/png": "[encoded data removed]",
            "text/plain": [
              "<Figure size 432x288 with 1 Axes>"
            ]
          },
          "metadata": {
            "needs_background": "light"
          }
        }
      ]
    },
    {
      "cell_type": "code",
      "metadata": {
        "id": "hKINa3tXm_tT"
      },
      "source": [
        "n_samples = 200 # number of test inputs\n",
        "res = torch.empty(0) # empty tensor for results\n",
        "\n",
        "for i in range(n_samples): # forward pass test dataset through trained model\n",
        "    k = neuralnetwork(X_test[i:i+1,0]).detach()\n",
        "    res = torch.cat((res, k), 0)"
      ],
      "execution_count": 8,
      "outputs": []
    },
    {
      "cell_type": "code",
      "metadata": {
        "colab": {
          "base_uri": "https://localhost:8080/",
          "height": 282
        },
        "id": "sPoyEgOcoU9B",
        "outputId": "0b05bbcb-fcd8-492a-887d-71c22cf272c8"
      },
      "source": [
        "# plot results\n",
        "plt.scatter(*zip(*X_test), alpha=0.3, label='true values')\n",
        "plt.scatter(X_test[:,0] , res, alpha=0.3, label='predicted')\n",
        "plt.legend()"
      ],
      "execution_count": 9,
      "outputs": [
        {
          "output_type": "execute_result",
          "data": {
            "text/plain": [
              "<matplotlib.legend.Legend at 0x7fb44734a3d0>"
            ]
          },
          "metadata": {},
          "execution_count": 9
        },
        {
          "output_type": "display_data",
          "data": {
            "image/png": "[encoded data removed]",
            "text/plain": [
              "<Figure size 432x288 with 1 Axes>"
            ]
          },
          "metadata": {
            "needs_background": "light"
          }
        }
      ]
    },
    {
      "cell_type": "markdown",
      "metadata": {
        "id": "nBpr7nSMvZyW"
      },
      "source": [
        "# TEST: assess model performance"
      ]
    },
    {
      "cell_type": "code",
      "metadata": {
        "id": "EMne010lEF8U"
      },
      "source": [
        "# calculate error of predictions\n",
        "err = X_test[:,1] - res\n",
        "L2norm_err = np.sqrt(np.square(err))"
      ],
      "execution_count": 10,
      "outputs": []
    },
    {
      "cell_type": "code",
      "metadata": {
        "colab": {
          "base_uri": "https://localhost:8080/"
        },
        "id": "VaBkPzmkEeDI",
        "outputId": "f6900857-2c1f-44a9-c6ea-0e39bd9c17b1"
      },
      "source": [
        "# calculate RMS score\n",
        "avg_err = sum(np.sqrt(L2norm_err)) / n_samples\n",
        "print(\"Root Mean Squared: {}.\".format(avg_err))"
      ],
      "execution_count": 11,
      "outputs": [
        {
          "output_type": "stream",
          "name": "stdout",
          "text": [
            "Root Mean Squared: 0.9486280083656311.\n"
          ]
        }
      ]
    },
    {
      "cell_type": "code",
      "metadata": {
        "id": "MyP9f6qrAsu7"
      },
      "source": [
        "# contribution to log-likelihood for each predicition point\n",
        "def logprob(t, x, var=1):\n",
        "    lp_list =[]\n",
        "    for i in tqdm(range(len(t))):\n",
        "        sigma_sqr = float(0.09)\n",
        "        f = torch.distributions.normal.Normal(0, sigma_sqr)\n",
        "        lp_list.append(f.log_prob(t[i]))\n",
        "    return lp_list"
      ],
      "execution_count": 12,
      "outputs": []
    },
    {
      "cell_type": "code",
      "metadata": {
        "colab": {
          "base_uri": "https://localhost:8080/"
        },
        "id": "jx-iyTX1CZ1Y",
        "outputId": "e5ecb80f-9672-44e4-cf9b-d355814f9b07"
      },
      "source": [
        "# calculate total log-likelihood\n",
        "LL = sum(logprob(err, X_test[:,0]))\n",
        "\n",
        "print(\"\\n\\nLog-likelihood of predicted targets: {}.\".format(LL))"
      ],
      "execution_count": 13,
      "outputs": [
        {
          "output_type": "stream",
          "name": "stderr",
          "text": [
            "100%|██████████| 200/200 [00:00<00:00, 7451.71it/s]"
          ]
        },
        {
          "output_type": "stream",
          "name": "stdout",
          "text": [
            "\n",
            "\n",
            "Log-likelihood of predicted targets: -25343.26171875.\n"
          ]
        },
        {
          "output_type": "stream",
          "name": "stderr",
          "text": [
            "\n"
          ]
        }
      ]
    }
  ]
}