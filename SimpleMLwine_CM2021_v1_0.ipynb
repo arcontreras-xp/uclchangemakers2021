{
  "nbformat": 4,
  "nbformat_minor": 0,
  "metadata": {
    "colab": {
      "name": "SimpleMLwine_CM2021_v1_0.ipynb",
      "provenance": [],
      "collapsed_sections": []
    },
    "kernelspec": {
      "name": "python3",
      "display_name": "Python 3"
    },
    "language_info": {
      "name": "python"
    }
  },
  "cells": [
    {
      "cell_type": "markdown",
      "metadata": {
        "id": "edga3Ckd0l3e"
      },
      "source": [
        "Author: Abraham Contreras\n",
        "\n",
        "ML Wine Quality.\n",
        "\n",
        "Dataset by Cortex et al. at UCI Machine Learning\n",
        "https://www.kaggle.com/uciml/red-wine-quality-cortez-et-al-2009\n",
        "\n",
        "\n",
        "In this notebook, the data selected is a red wine quality dataset from Kaggle. For this example, a simple neural network of two layers is used, with an input layer of 3 variables: density, pH, alcohol percentage. The outcome is the quality of the wine.\n"
      ]
    },
    {
      "cell_type": "markdown",
      "metadata": {
        "id": "xlZ8_gTV6iwR"
      },
      "source": [
        "# Import necessary packages"
      ]
    },
    {
      "cell_type": "code",
      "metadata": {
        "id": "iGlpWfa7Qe25"
      },
      "source": [
        "# PyTorch packages\n",
        "import torch\n",
        "import torch.nn as nn\n",
        "\n",
        "from tqdm import tqdm # loop progress bar\n",
        "import gc # garbage collector\n",
        "\n",
        "# standard packages for data manipulation and visualisation\n",
        "import numpy as np\n",
        "import pandas as pd\n",
        "import matplotlib.pyplot as plt\n",
        "plt.style.use('ggplot')"
      ],
      "execution_count": null,
      "outputs": []
    },
    {
      "cell_type": "markdown",
      "metadata": {
        "id": "9EV3AjP57F_u"
      },
      "source": [
        "# DATA: load or generate data"
      ]
    },
    {
      "cell_type": "code",
      "metadata": {
        "colab": {
          "base_uri": "https://localhost:8080/",
          "height": 581
        },
        "id": "as0ormYI67_y",
        "outputId": "58d2056a-9969-4b0e-edda-54321c9f56be"
      },
      "source": [
        "url = 'https://raw.githubusercontent.com/arcontreras-xp/uclchangemakers2021/main/winequality-red.csv'\n",
        "winequality_red = pd.read_csv(url)\n",
        "# Dataset is now stored in a Pandas Dataframe\n",
        "\n",
        "# Examine data\n",
        "winequality_red.info()\n",
        "winequality_red.head(5)"
      ],
      "execution_count": null,
      "outputs": [
        {
          "output_type": "stream",
          "name": "stdout",
          "text": [
            "<class 'pandas.core.frame.DataFrame'>\n",
            "RangeIndex: 1599 entries, 0 to 1598\n",
            "Data columns (total 12 columns):\n",
            " #   Column                Non-Null Count  Dtype  \n",
            "---  ------                --------------  -----  \n",
            " 0   fixed acidity         1599 non-null   float64\n",
            " 1   volatile acidity      1599 non-null   float64\n",
            " 2   citric acid           1599 non-null   float64\n",
            " 3   residual sugar        1599 non-null   float64\n",
            " 4   chlorides             1599 non-null   float64\n",
            " 5   free sulfur dioxide   1599 non-null   float64\n",
            " 6   total sulfur dioxide  1599 non-null   float64\n",
            " 7   density               1599 non-null   float64\n",
            " 8   pH                    1599 non-null   float64\n",
            " 9   sulphates             1599 non-null   float64\n",
            " 10  alcohol               1599 non-null   float64\n",
            " 11  quality               1599 non-null   int64  \n",
            "dtypes: float64(11), int64(1)\n",
            "memory usage: 150.0 KB\n"
          ]
        },
        {
          "output_type": "execute_result",
          "data": {
            "text/html": [
              "<div>\n",
              "<style scoped>\n",
              "    .dataframe tbody tr th:only-of-type {\n",
              "        vertical-align: middle;\n",
              "    }\n",
              "\n",
              "    .dataframe tbody tr th {\n",
              "        vertical-align: top;\n",
              "    }\n",
              "\n",
              "    .dataframe thead th {\n",
              "        text-align: right;\n",
              "    }\n",
              "</style>\n",
              "<table border=\"1\" class=\"dataframe\">\n",
              "  <thead>\n",
              "    <tr style=\"text-align: right;\">\n",
              "      <th></th>\n",
              "      <th>fixed acidity</th>\n",
              "      <th>volatile acidity</th>\n",
              "      <th>citric acid</th>\n",
              "      <th>residual sugar</th>\n",
              "      <th>chlorides</th>\n",
              "      <th>free sulfur dioxide</th>\n",
              "      <th>total sulfur dioxide</th>\n",
              "      <th>density</th>\n",
              "      <th>pH</th>\n",
              "      <th>sulphates</th>\n",
              "      <th>alcohol</th>\n",
              "      <th>quality</th>\n",
              "    </tr>\n",
              "  </thead>\n",
              "  <tbody>\n",
              "    <tr>\n",
              "      <th>0</th>\n",
              "      <td>7.4</td>\n",
              "      <td>0.70</td>\n",
              "      <td>0.00</td>\n",
              "      <td>1.9</td>\n",
              "      <td>0.076</td>\n",
              "      <td>11.0</td>\n",
              "      <td>34.0</td>\n",
              "      <td>0.9978</td>\n",
              "      <td>3.51</td>\n",
              "      <td>0.56</td>\n",
              "      <td>9.4</td>\n",
              "      <td>5</td>\n",
              "    </tr>\n",
              "    <tr>\n",
              "      <th>1</th>\n",
              "      <td>7.8</td>\n",
              "      <td>0.88</td>\n",
              "      <td>0.00</td>\n",
              "      <td>2.6</td>\n",
              "      <td>0.098</td>\n",
              "      <td>25.0</td>\n",
              "      <td>67.0</td>\n",
              "      <td>0.9968</td>\n",
              "      <td>3.20</td>\n",
              "      <td>0.68</td>\n",
              "      <td>9.8</td>\n",
              "      <td>5</td>\n",
              "    </tr>\n",
              "    <tr>\n",
              "      <th>2</th>\n",
              "      <td>7.8</td>\n",
              "      <td>0.76</td>\n",
              "      <td>0.04</td>\n",
              "      <td>2.3</td>\n",
              "      <td>0.092</td>\n",
              "      <td>15.0</td>\n",
              "      <td>54.0</td>\n",
              "      <td>0.9970</td>\n",
              "      <td>3.26</td>\n",
              "      <td>0.65</td>\n",
              "      <td>9.8</td>\n",
              "      <td>5</td>\n",
              "    </tr>\n",
              "    <tr>\n",
              "      <th>3</th>\n",
              "      <td>11.2</td>\n",
              "      <td>0.28</td>\n",
              "      <td>0.56</td>\n",
              "      <td>1.9</td>\n",
              "      <td>0.075</td>\n",
              "      <td>17.0</td>\n",
              "      <td>60.0</td>\n",
              "      <td>0.9980</td>\n",
              "      <td>3.16</td>\n",
              "      <td>0.58</td>\n",
              "      <td>9.8</td>\n",
              "      <td>6</td>\n",
              "    </tr>\n",
              "    <tr>\n",
              "      <th>4</th>\n",
              "      <td>7.4</td>\n",
              "      <td>0.70</td>\n",
              "      <td>0.00</td>\n",
              "      <td>1.9</td>\n",
              "      <td>0.076</td>\n",
              "      <td>11.0</td>\n",
              "      <td>34.0</td>\n",
              "      <td>0.9978</td>\n",
              "      <td>3.51</td>\n",
              "      <td>0.56</td>\n",
              "      <td>9.4</td>\n",
              "      <td>5</td>\n",
              "    </tr>\n",
              "  </tbody>\n",
              "</table>\n",
              "</div>"
            ],
            "text/plain": [
              "   fixed acidity  volatile acidity  citric acid  ...  sulphates  alcohol  quality\n",
              "0            7.4              0.70         0.00  ...       0.56      9.4        5\n",
              "1            7.8              0.88         0.00  ...       0.68      9.8        5\n",
              "2            7.8              0.76         0.04  ...       0.65      9.8        5\n",
              "3           11.2              0.28         0.56  ...       0.58      9.8        6\n",
              "4            7.4              0.70         0.00  ...       0.56      9.4        5\n",
              "\n",
              "[5 rows x 12 columns]"
            ]
          },
          "metadata": {},
          "execution_count": 2
        }
      ]
    },
    {
      "cell_type": "code",
      "metadata": {
        "colab": {
          "base_uri": "https://localhost:8080/",
          "height": 297
        },
        "id": "YgwFmTbD8gKY",
        "outputId": "81efebf5-1ca8-4f6d-fac3-aa71db5e119e"
      },
      "source": [
        "winequality_red[['density', 'pH', 'alcohol', 'quality']].describe()"
      ],
      "execution_count": null,
      "outputs": [
        {
          "output_type": "execute_result",
          "data": {
            "text/html": [
              "<div>\n",
              "<style scoped>\n",
              "    .dataframe tbody tr th:only-of-type {\n",
              "        vertical-align: middle;\n",
              "    }\n",
              "\n",
              "    .dataframe tbody tr th {\n",
              "        vertical-align: top;\n",
              "    }\n",
              "\n",
              "    .dataframe thead th {\n",
              "        text-align: right;\n",
              "    }\n",
              "</style>\n",
              "<table border=\"1\" class=\"dataframe\">\n",
              "  <thead>\n",
              "    <tr style=\"text-align: right;\">\n",
              "      <th></th>\n",
              "      <th>density</th>\n",
              "      <th>pH</th>\n",
              "      <th>alcohol</th>\n",
              "      <th>quality</th>\n",
              "    </tr>\n",
              "  </thead>\n",
              "  <tbody>\n",
              "    <tr>\n",
              "      <th>count</th>\n",
              "      <td>1599.000000</td>\n",
              "      <td>1599.000000</td>\n",
              "      <td>1599.000000</td>\n",
              "      <td>1599.000000</td>\n",
              "    </tr>\n",
              "    <tr>\n",
              "      <th>mean</th>\n",
              "      <td>0.996747</td>\n",
              "      <td>3.311113</td>\n",
              "      <td>10.422983</td>\n",
              "      <td>5.636023</td>\n",
              "    </tr>\n",
              "    <tr>\n",
              "      <th>std</th>\n",
              "      <td>0.001887</td>\n",
              "      <td>0.154386</td>\n",
              "      <td>1.065668</td>\n",
              "      <td>0.807569</td>\n",
              "    </tr>\n",
              "    <tr>\n",
              "      <th>min</th>\n",
              "      <td>0.990070</td>\n",
              "      <td>2.740000</td>\n",
              "      <td>8.400000</td>\n",
              "      <td>3.000000</td>\n",
              "    </tr>\n",
              "    <tr>\n",
              "      <th>25%</th>\n",
              "      <td>0.995600</td>\n",
              "      <td>3.210000</td>\n",
              "      <td>9.500000</td>\n",
              "      <td>5.000000</td>\n",
              "    </tr>\n",
              "    <tr>\n",
              "      <th>50%</th>\n",
              "      <td>0.996750</td>\n",
              "      <td>3.310000</td>\n",
              "      <td>10.200000</td>\n",
              "      <td>6.000000</td>\n",
              "    </tr>\n",
              "    <tr>\n",
              "      <th>75%</th>\n",
              "      <td>0.997835</td>\n",
              "      <td>3.400000</td>\n",
              "      <td>11.100000</td>\n",
              "      <td>6.000000</td>\n",
              "    </tr>\n",
              "    <tr>\n",
              "      <th>max</th>\n",
              "      <td>1.003690</td>\n",
              "      <td>4.010000</td>\n",
              "      <td>14.900000</td>\n",
              "      <td>8.000000</td>\n",
              "    </tr>\n",
              "  </tbody>\n",
              "</table>\n",
              "</div>"
            ],
            "text/plain": [
              "           density           pH      alcohol      quality\n",
              "count  1599.000000  1599.000000  1599.000000  1599.000000\n",
              "mean      0.996747     3.311113    10.422983     5.636023\n",
              "std       0.001887     0.154386     1.065668     0.807569\n",
              "min       0.990070     2.740000     8.400000     3.000000\n",
              "25%       0.995600     3.210000     9.500000     5.000000\n",
              "50%       0.996750     3.310000    10.200000     6.000000\n",
              "75%       0.997835     3.400000    11.100000     6.000000\n",
              "max       1.003690     4.010000    14.900000     8.000000"
            ]
          },
          "metadata": {},
          "execution_count": 3
        }
      ]
    },
    {
      "cell_type": "code",
      "metadata": {
        "id": "-9nzrnJ7wgp1"
      },
      "source": [
        "# assign variables\n",
        "x1 = winequality_red['density']\n",
        "x2 = winequality_red['pH']\n",
        "x3 = winequality_red['alcohol']\n",
        "t = winequality_red['quality']\n",
        "\n",
        "# convert lists to tensor\n",
        "X = torch.FloatTensor(list(zip(x1, x2, x3, t)))\n",
        "\n",
        "# split data into training/testing sets\n",
        "set1, set2 = torch.utils.data.random_split(X, [1000, 599])\n",
        "\n",
        "X_train, X_test = X[set1.indices], X[set2.indices]"
      ],
      "execution_count": null,
      "outputs": []
    },
    {
      "cell_type": "code",
      "metadata": {
        "colab": {
          "base_uri": "https://localhost:8080/",
          "height": 299
        },
        "id": "lzEIW9k6fdMd",
        "outputId": "c1d91307-5025-4f22-c764-e7d8d8f0b4f5"
      },
      "source": [
        "# examine datasets\n",
        "plt.scatter(X_train[:,0], X_train[:,3], alpha=0.1, s=20, color='grey', label='train')\n",
        "plt.scatter(X_test[:,0], X_test[:,3], s=20, color='blue', label='test')\n",
        "plt.legend()\n",
        "plt.xlabel('density')\n",
        "plt.ylabel('Wine Quality')"
      ],
      "execution_count": null,
      "outputs": [
        {
          "output_type": "execute_result",
          "data": {
            "text/plain": [
              "Text(0, 0.5, 'Wine Quality')"
            ]
          },
          "metadata": {},
          "execution_count": 5
        },
        {
          "output_type": "display_data",
          "data": {
            "image/png": "[encoded data removed]",
            "text/plain": [
              "<Figure size 432x288 with 1 Axes>"
            ]
          },
          "metadata": {
            "needs_background": "light"
          }
        }
      ]
    },
    {
      "cell_type": "code",
      "metadata": {
        "colab": {
          "base_uri": "https://localhost:8080/",
          "height": 299
        },
        "id": "Cg2cpMKdIgQP",
        "outputId": "a0f6f649-08a7-48b5-c27c-d9325fc3cf67"
      },
      "source": [
        "plt.scatter(X_train[:,1], X_train[:,3], alpha=0.1, s=20, color='grey', label='train')\n",
        "plt.scatter(X_test[:,1], X_test[:,3], s=20, color='blue', label='test')\n",
        "plt.legend()\n",
        "plt.xlabel('pH level')\n",
        "plt.ylabel('Wine Quality')"
      ],
      "execution_count": null,
      "outputs": [
        {
          "output_type": "execute_result",
          "data": {
            "text/plain": [
              "Text(0, 0.5, 'Wine Quality')"
            ]
          },
          "metadata": {},
          "execution_count": 6
        },
        {
          "output_type": "display_data",
          "data": {
            "image/png": "[encoded data removed]",
            "text/plain": [
              "<Figure size 432x288 with 1 Axes>"
            ]
          },
          "metadata": {
            "needs_background": "light"
          }
        }
      ]
    },
    {
      "cell_type": "code",
      "metadata": {
        "colab": {
          "base_uri": "https://localhost:8080/",
          "height": 299
        },
        "id": "JufH-85tClK_",
        "outputId": "a84b0141-6af2-49bb-9703-0bb31e3d426c"
      },
      "source": [
        "plt.scatter(X_train[:,2], X_train[:,3], alpha=0.1, s=20, color='grey', label='train')\n",
        "plt.scatter(X_test[:,2], X_test[:,3], s=20, color='blue', label='test')\n",
        "plt.legend()\n",
        "plt.xlabel('alcohol (%)')\n",
        "plt.ylabel('Wine Quality')"
      ],
      "execution_count": null,
      "outputs": [
        {
          "output_type": "execute_result",
          "data": {
            "text/plain": [
              "Text(0, 0.5, 'Wine Quality')"
            ]
          },
          "metadata": {},
          "execution_count": 7
        },
        {
          "output_type": "display_data",
          "data": {
            "image/png": "[encoded data removed]",
            "text/plain": [
              "<Figure size 432x288 with 1 Axes>"
            ]
          },
          "metadata": {
            "needs_background": "light"
          }
        }
      ]
    },
    {
      "cell_type": "markdown",
      "metadata": {
        "id": "mI3JQ-xV7OPJ"
      },
      "source": [
        "# MODEL: define the deep learning neural network "
      ]
    },
    {
      "cell_type": "code",
      "metadata": {
        "id": "L4Tux4ApBlue"
      },
      "source": [
        "# define deep learning model\n",
        "class model(nn.Module):\n",
        "  def __init__(self, input_layer, hidden_layer1, output_layer):\n",
        "    super(model, self).__init__()\n",
        "    self.layers = nn.Sequential( # set layers and links\n",
        "      nn.Linear(input_layer, hidden_layer1),\n",
        "      nn.Tanh(),\n",
        "      nn.Linear(hidden_layer1, output_layer))\n",
        "  \n",
        "  def forward(self, x): #define forward propagation step\n",
        "    output = self.layers(x)\n",
        "    return output\n",
        "\n",
        "# create variable for deep learning model\n",
        "# set network parameters\n",
        "# note: input_layer is set to 3 as there are three input variables we are using\n",
        "neuralnetwork = model(input_layer=3, hidden_layer1=15, output_layer=1)\n",
        "\n",
        "# define optimization algorithm of model and loss formula\n",
        "optimizer = torch.optim.SGD(neuralnetwork.parameters(), lr=0.0001)\n",
        "loss = nn.MSELoss()"
      ],
      "execution_count": null,
      "outputs": []
    },
    {
      "cell_type": "code",
      "metadata": {
        "id": "BXcq5KROEGah",
        "colab": {
          "base_uri": "https://localhost:8080/"
        },
        "outputId": "873cefb6-3e74-44c8-8a37-3e6225ca1583"
      },
      "source": [
        "# (optional) clears some memory space\n",
        "gc.collect()"
      ],
      "execution_count": null,
      "outputs": [
        {
          "output_type": "execute_result",
          "data": {
            "text/plain": [
              "113"
            ]
          },
          "metadata": {},
          "execution_count": 9
        }
      ]
    },
    {
      "cell_type": "markdown",
      "metadata": {
        "id": "-2qHpMScEPQL"
      },
      "source": [
        "# TRAIN: model learning step"
      ]
    },
    {
      "cell_type": "code",
      "metadata": {
        "id": "uBsUdeeJENlv",
        "colab": {
          "base_uri": "https://localhost:8080/"
        },
        "outputId": "1a19a836-2d6f-4d62-f014-c548d7970226"
      },
      "source": [
        "total_epoch = 100 # number of training steps\n",
        "batch_size = 64 # minibatch sizes\n",
        "loss_list = [] \n",
        "\n",
        "for epoch in tqdm(range(total_epoch)):\n",
        "    permu = torch.randperm(X_train.shape[0]) # randomly rearrange training data\n",
        "    for i in range(0, X_train.shape[0], batch_size): # take batches from shuffled data\n",
        "        indices = permu[i:i+batch_size]\n",
        "        batch_x, batch_y = X_train[indices,0:3], X_train[indices,3]\n",
        "        # note: index has been changed to select three variables as input\n",
        "        t = neuralnetwork.forward(batch_x.unsqueeze(1)) # forward propagation\n",
        "        optimizer.zero_grad()\n",
        "        l = loss(t, batch_y.unsqueeze(1)) # calculate loss \n",
        "        l.backward() # backpropagation step\n",
        "        optimizer.step()\n",
        "\n",
        "    if epoch % 1 == 0: # collect loss\n",
        "        loss_list.append(l.detach())"
      ],
      "execution_count": null,
      "outputs": [
        {
          "output_type": "stream",
          "name": "stderr",
          "text": [
            "  0%|          | 0/100 [00:00<?, ?it/s]/usr/local/lib/python3.7/dist-packages/torch/nn/modules/loss.py:528: UserWarning: Using a target size (torch.Size([64, 1])) that is different to the input size (torch.Size([64, 1, 1])). This will likely lead to incorrect results due to broadcasting. Please ensure they have the same size.\n",
            "  return F.mse_loss(input, target, reduction=self.reduction)\n",
            "/usr/local/lib/python3.7/dist-packages/torch/nn/modules/loss.py:528: UserWarning: Using a target size (torch.Size([40, 1])) that is different to the input size (torch.Size([40, 1, 1])). This will likely lead to incorrect results due to broadcasting. Please ensure they have the same size.\n",
            "  return F.mse_loss(input, target, reduction=self.reduction)\n",
            "100%|██████████| 100/100 [00:01<00:00, 63.03it/s]\n"
          ]
        }
      ]
    },
    {
      "cell_type": "markdown",
      "metadata": {
        "id": "HnxM2vd6oBn3"
      },
      "source": [
        "# PLOT: generate predictions from trained model and plot performance"
      ]
    },
    {
      "cell_type": "code",
      "metadata": {
        "colab": {
          "base_uri": "https://localhost:8080/",
          "height": 282
        },
        "id": "k13gxS0WpkFc",
        "outputId": "51282c4c-6960-41a7-e30c-d950a004c5e0"
      },
      "source": [
        "# Epochs vs Loss\n",
        "plt.plot(range(total_epoch), np.array(loss_list), label='loss', linewidth=0.5)\n",
        "plt.legend()"
      ],
      "execution_count": null,
      "outputs": [
        {
          "output_type": "execute_result",
          "data": {
            "text/plain": [
              "<matplotlib.legend.Legend at 0x7fcae8787d10>"
            ]
          },
          "metadata": {},
          "execution_count": 11
        },
        {
          "output_type": "display_data",
          "data": {
            "image/png": "[encoded data removed]",
            "text/plain": [
              "<Figure size 432x288 with 1 Axes>"
            ]
          },
          "metadata": {
            "needs_background": "light"
          }
        }
      ]
    },
    {
      "cell_type": "code",
      "metadata": {
        "id": "hKINa3tXm_tT"
      },
      "source": [
        "n_samples = 599 # number of test inputs\n",
        "res = torch.empty(0) # empty tensor for results\n",
        "\n",
        "for i in range(n_samples): # forward pass test dataset through trained model\n",
        "    k = neuralnetwork(X_test[i:i+1,0:3]).detach()\n",
        "    # note: index here is changed to input three variables from the test data\n",
        "    res = torch.cat((res, k), 0)"
      ],
      "execution_count": null,
      "outputs": []
    },
    {
      "cell_type": "code",
      "metadata": {
        "colab": {
          "base_uri": "https://localhost:8080/",
          "height": 299
        },
        "id": "sPoyEgOcoU9B",
        "outputId": "dfcc76d6-fcba-45cc-bafc-455b616f13ef"
      },
      "source": [
        "# plot results\n",
        "plt.scatter(X_test[:,0], X_test[:,3], alpha=0.3, label='true values')\n",
        "plt.scatter(X_test[:,0] , res, alpha=0.3, label='predicted')\n",
        "plt.legend()\n",
        "plt.xlabel('density')"
      ],
      "execution_count": null,
      "outputs": [
        {
          "output_type": "execute_result",
          "data": {
            "text/plain": [
              "Text(0.5, 0, 'density')"
            ]
          },
          "metadata": {},
          "execution_count": 13
        },
        {
          "output_type": "display_data",
          "data": {
            "image/png": "[encoded data removed]",
            "text/plain": [
              "<Figure size 432x288 with 1 Axes>"
            ]
          },
          "metadata": {
            "needs_background": "light"
          }
        }
      ]
    },
    {
      "cell_type": "code",
      "metadata": {
        "colab": {
          "base_uri": "https://localhost:8080/",
          "height": 299
        },
        "id": "kDoDTSHnGnht",
        "outputId": "9980b93e-29db-4f2b-d31e-9f756c70bba3"
      },
      "source": [
        "plt.scatter(X_test[:,1], X_test[:,3], alpha=0.3, label='true values')\n",
        "plt.scatter(X_test[:,1] , res, alpha=0.3, label='predicted')\n",
        "plt.legend()\n",
        "plt.xlabel('pH')"
      ],
      "execution_count": null,
      "outputs": [
        {
          "output_type": "execute_result",
          "data": {
            "text/plain": [
              "Text(0.5, 0, 'pH')"
            ]
          },
          "metadata": {},
          "execution_count": 14
        },
        {
          "output_type": "display_data",
          "data": {
            "image/png": "[encoded data removed]",
            "text/plain": [
              "<Figure size 432x288 with 1 Axes>"
            ]
          },
          "metadata": {
            "needs_background": "light"
          }
        }
      ]
    },
    {
      "cell_type": "code",
      "metadata": {
        "colab": {
          "base_uri": "https://localhost:8080/",
          "height": 299
        },
        "id": "71-tJ6NgJBzW",
        "outputId": "b0f7bc74-c98e-487e-b89c-a052734d8ec9"
      },
      "source": [
        "plt.scatter(X_test[:,2], X_test[:,3], alpha=0.3, label='true values')\n",
        "plt.scatter(X_test[:,2] , res, alpha=0.3, label='predicted')\n",
        "plt.legend()\n",
        "plt.xlabel('alcohol(%)')"
      ],
      "execution_count": null,
      "outputs": [
        {
          "output_type": "execute_result",
          "data": {
            "text/plain": [
              "Text(0.5, 0, 'alcohol(%)')"
            ]
          },
          "metadata": {},
          "execution_count": 15
        },
        {
          "output_type": "display_data",
          "data": {
            "image/png": "[encoded data removed]",
            "text/plain": [
              "<Figure size 432x288 with 1 Axes>"
            ]
          },
          "metadata": {
            "needs_background": "light"
          }
        }
      ]
    },
    {
      "cell_type": "markdown",
      "metadata": {
        "id": "nBpr7nSMvZyW"
      },
      "source": [
        "# TEST: assess model performance"
      ]
    },
    {
      "cell_type": "code",
      "metadata": {
        "id": "EMne010lEF8U"
      },
      "source": [
        "# calculate error of predictions\n",
        "err = X_test[:,3] - res.squeeze()\n",
        "L2norm_err = np.sqrt(np.square(err))"
      ],
      "execution_count": null,
      "outputs": []
    },
    {
      "cell_type": "code",
      "metadata": {
        "colab": {
          "base_uri": "https://localhost:8080/"
        },
        "id": "VaBkPzmkEeDI",
        "outputId": "1e488c68-e455-440a-ce49-f1b65c4e04e1"
      },
      "source": [
        "# calculate RMS score\n",
        "avg_err = sum(np.sqrt(L2norm_err)) / n_samples\n",
        "print(\"Root Mean Squared: {}.\".format(avg_err))"
      ],
      "execution_count": null,
      "outputs": [
        {
          "output_type": "stream",
          "name": "stdout",
          "text": [
            "Root Mean Squared: 0.7863247990608215.\n"
          ]
        }
      ]
    },
    {
      "cell_type": "code",
      "metadata": {
        "colab": {
          "base_uri": "https://localhost:8080/",
          "height": 401
        },
        "id": "JDdojAEIKVrC",
        "outputId": "f053ffdf-8a3c-4e4c-e340-93faa8bdbf92"
      },
      "source": [
        "# Examine errors\n",
        "plt.hist(err, bins=20)"
      ],
      "execution_count": null,
      "outputs": [
        {
          "output_type": "execute_result",
          "data": {
            "text/plain": [
              "(array([  3.,   0.,   0.,   6.,  11.,   0.,   0.,  53., 207.,   0.,   0.,\n",
              "        147.,  92.,   0.,   0.,  69.,   4.,   0.,   0.,   7.]),\n",
              " array([-2.6210485 , -2.3689394 , -2.11683   , -1.8647211 , -1.612612  ,\n",
              "        -1.3605028 , -1.1083937 , -0.8562846 , -0.60417545, -0.35206634,\n",
              "        -0.09995723,  0.1521519 ,  0.40426102,  0.65637016,  0.9084793 ,\n",
              "         1.1605884 ,  1.4126976 ,  1.6648066 ,  1.9169158 ,  2.169025  ,\n",
              "         2.421134  ], dtype=float32),\n",
              " <a list of 20 Patch objects>)"
            ]
          },
          "metadata": {},
          "execution_count": 18
        },
        {
          "output_type": "display_data",
          "data": {
            "image/png": "[encoded data removed]",
            "text/plain": [
              "<Figure size 432x288 with 1 Axes>"
            ]
          },
          "metadata": {
            "needs_background": "light"
          }
        }
      ]
    }
  ]
}